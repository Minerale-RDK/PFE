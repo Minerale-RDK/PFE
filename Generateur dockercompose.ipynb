{
 "cells": [
  {
   "cell_type": "code",
   "execution_count": 115,
   "metadata": {},
   "outputs": [],
   "source": [
    "class service:\n",
    "  def __init__(self,Name,Build,Image,Environment,Networks,Volumes):\n",
    "    self.name = Name+\":\"\n",
    "    self.build = Build\n",
    "    self.image = Image\n",
    "    self.environment = Environment\n",
    "    self.networks = Networks\n",
    "    self.restart = \"restart: always\"\n",
    "    self.volumes = Volumes\n",
    "  \n",
    "  \n",
    "  def Affichage(self):\n",
    "    print(\" \",self.name)\n",
    "    print(\"    build:\",self.build)\n",
    "    print(\"    image:\",self.image)\n",
    "    if (len(self.environment)==1):\n",
    "        print(\"    environment:\\n     -\",env[0])\n",
    "    if (len(self.environment)>1):\n",
    "        print(\"    environment:\")\n",
    "        for i in range (0,len(self.environment)):\n",
    "            print(\"     -\",self.environment[i])\n",
    "    print(\"    networks:\\n     -\",self.networks)\n",
    "    print(\"   \", self.restart)\n",
    "    if (self.volumes != \"0\"):\n",
    "      print(\"    volumes:\\n     -\" ,self.volumes)\n",
    "    print(\"\\n\")\n",
    "    "
   ]
  },
  {
   "cell_type": "code",
   "execution_count": 116,
   "metadata": {},
   "outputs": [],
   "source": [
    "class Volume:\n",
    "  def __init__(self,Name,Driver,Type,O,Device):\n",
    "    self.name = Name+\":\"\n",
    "    self.driver = Driver\n",
    "    self.type = Type\n",
    "    self.o = O\n",
    "    self.device = Device\n",
    "\n",
    "  \n",
    "  def Affichage(self):\n",
    "    print(\" \",self.name)\n",
    "    print(\"    driver:\",self.driver)\n",
    "    print(\"    driver_opts:\")\n",
    "    print(\"      type:\",self.type)\n",
    "    print(\"      o:\",self.o)\n",
    "    print(\"      device:\", self.device,'\\n')\n"
   ]
  },
  {
   "cell_type": "code",
   "execution_count": 117,
   "metadata": {},
   "outputs": [],
   "source": [
    "class Networks:\n",
    "    def __init__(self,Nb):\n",
    "        self.nb = Nb\n",
    "        \n",
    "    def Affichage(self):\n",
    "        print(\"networks:\")\n",
    "        for i in range (1, int(self.nb)+1):\n",
    "            to_print = \"network\"+str(i)+\":\"\n",
    "            print(\"  \",to_print)\n",
    "            "
   ]
  },
  {
   "cell_type": "code",
   "execution_count": 125,
   "metadata": {},
   "outputs": [
    {
     "name": "stdout",
     "output_type": "stream",
     "text": [
      "saisir le nombre de network de votre smartgrid : 1\n",
      "saisir le nombre de consommateur: 1\n",
      "saisir la conso : 200\n",
      "saisir le numero du network : 1\n",
      "saisir le nombre de generateur: 1\n",
      "saisir la gene : 200\n",
      "saisir le numero du network : 1\n",
      "saisir le nombre de captor: 1\n",
      "saisir le numero du network : 1\n",
      "saisir le nombre de scada: 1\n",
      "saisir le numero du network : 1\n",
      "sortie ? (y/n)y\n"
     ]
    }
   ],
   "source": [
    "nbConso,nbGene,nbCaptor,nbScada = 1,1,1,1 \n",
    "tabVolume= []\n",
    "tabService = []\n",
    "global networks\n",
    "conditionValidation = 0\n",
    "while conditionValidation !=\"y\":\n",
    "    nbNetwork = input(\"saisir le nombre de network de votre smartgrid : \")\n",
    "    networks = Networks(nbNetwork)       \n",
    "    \n",
    "#consommateur\n",
    "    nbConso = input(\"saisir le nombre de consommateur: \")\n",
    "    for i in range (1, int(nbConso)+1):\n",
    "        name = \"server-conso\"+str(i)\n",
    "        build = \"docker-server-minimal_consommateur/.\"\n",
    "        image = \"server-conso\"+str(i)\n",
    "        conso = input(\"saisir la conso : \")\n",
    "        env = [\"CONSO= \"+conso]\n",
    "        env.append(\"COUNT= \"+str(i))\n",
    "        nbNet = input(\"saisir le numero du network : \")\n",
    "        net =  \"network\"+nbNet\n",
    "        vol = \"0\"\n",
    "        conso= service(name, build,image,env,net,vol)\n",
    "        tabService.append(conso)\n",
    "    \n",
    "#generateur\n",
    "    nbGene = input(\"saisir le nombre de generateur: \")\n",
    "    for i in range (1, int(nbGene)+1):\n",
    "        name = \"server-gene\"+str(i)\n",
    "        build = \"docker-server-minimal_generateur/v0.1.0/.\"\n",
    "        image = \"server-gene\"+str(i)\n",
    "        gene = input(\"saisir la gene : \")\n",
    "        env = [\"GENE= \"+gene]\n",
    "        env.append(\"COUNT= \"+str(i))\n",
    "        nbNet = input(\"saisir le numero du network : \")\n",
    "        net =  \"network\"+nbNet\n",
    "        vol = \"0\"\n",
    "        gene= service(name, build,image,env,net,vol)\n",
    "        tabService.append(gene)\n",
    "\n",
    "#captor    \n",
    "    nbCaptor = input(\"saisir le nombre de captor: \")\n",
    "    for i in range (1, int(nbCaptor)+1):\n",
    "        name = \"client_captor\"+str(i)\n",
    "        build = \"docker-client-minimal_captor/v0.0.1/.\"\n",
    "        image = \"client-captor\"+str(i)\n",
    "        env = [\"COUNT= \"+ str(i)]\n",
    "        nbNet = input(\"saisir le numero du network : \")\n",
    "        net =  \"network\"+nbNet\n",
    "        nameVol = \"volume\"+str(i)\n",
    "        driver = \"local\"\n",
    "        typeNet = \"none\"\n",
    "        o = \"bind\"\n",
    "        device = \"C:/Users/gesli/OneDrive/Documents/ing5/PFE/data\"\n",
    "        \n",
    "        captor= service(name, build,image,env,net,nameVol)\n",
    "        tabService.append(captor)\n",
    "        vol = Volume(nameVol,driver,typeNet,o,device)\n",
    "        tabVolume.append(vol)\n",
    "        \n",
    "#scada \n",
    "    nbScada = input(\"saisir le nombre de scada: \")\n",
    "    for i in range (1, int(nbScada)+1):\n",
    "        name = \"client_scada\"+str(i)\n",
    "        build = \"docker-client-minimal_scada/v0.0.1/.\"\n",
    "        image = \"client-scada\"+str(i)\n",
    "        env = [\"COUNT= \"+str(i)]\n",
    "        nbNet = input(\"saisir le numero du network : \")\n",
    "        net =  \"network\"+nbNet\n",
    "        vol = \"0\"\n",
    "        captor= service(name, build,image,env,net,vol)\n",
    "        tabService.append(captor)  \n",
    "    \n",
    "    conditionValidation = input(\"sortie ? (y/n)\")\n",
    "    "
   ]
  },
  {
   "cell_type": "code",
   "execution_count": 126,
   "metadata": {},
   "outputs": [],
   "source": [
    "def AffichageGlobale(tabService,tabVolume,networks):\n",
    "    print(\"version: '3'\\n\\nservices:\")\n",
    "    for i in range (0, len(tabService)):\n",
    "        tabService[i].Affichage()\n",
    "    print(\"volumes:\")\n",
    "    for i in range (0, len(tabVolume)):\n",
    "        tabVolume[i].Affichage()\n",
    "    networks.Affichage()"
   ]
  },
  {
   "cell_type": "code",
   "execution_count": 127,
   "metadata": {},
   "outputs": [],
   "source": [
    "\n",
    "#env = [\"- CONSO=300\",\"- COUNT = 1\"]\n",
    "#env2 = [\"- COUNT = 1\"]\n",
    "#Conso = service(\"server-conso1\",\"docker-server-minimal_consommateur/.\",\"server-conso1\" ,env,\"networks1\",\"0\")\n",
    "#Gene = service(\"server-gene1\",\"docker-server-minimal_generateur/v0.1.0/.\",\"server-gene1\",env,\"networks1\",\"0\" )\n",
    "#Scada = service(\"client1-scada\",\"docker-client-minimal_scada/v0.0.1/.\",\"client1-scada\",env2,\"networks1\",\"0\")\n",
    "#Captor = service(\"client1-captor\",\"docker-client-minimal_captor/v0.0.1/.\",\"client1-captor\",env2,\"network1\",\"real_conso:/data\")\n",
    "#net = Networks(1)\n",
    "#vol = Volume(\"real_conso\",\"local\",\"non\",\"bind\",\"C:/Users/gesli/OneDrive/Documents/ing5/PFE/data\")\n"
   ]
  },
  {
   "cell_type": "code",
   "execution_count": 128,
   "metadata": {},
   "outputs": [
    {
     "name": "stdout",
     "output_type": "stream",
     "text": [
      "version: '3'\n",
      "\n",
      "services:\n",
      "  server-conso1:\n",
      "    build: docker-server-minimal_consommateur/.\n",
      "    image: server-conso1\n",
      "    environment:\n",
      "     - CONSO= 200\n",
      "     - COUNT= 1\n",
      "    networks:\n",
      "     - network1\n",
      "    restart: always\n",
      "\n",
      "\n",
      "  server-gene1:\n",
      "    build: docker-server-minimal_generateur/v0.1.0/.\n",
      "    image: server-gene1\n",
      "    environment:\n",
      "     - GENE= 200\n",
      "     - COUNT= 1\n",
      "    networks:\n",
      "     - network1\n",
      "    restart: always\n",
      "\n",
      "\n",
      "  client_captor1:\n",
      "    build: docker-client-minimal_captor/v0.0.1/.\n",
      "    image: client-captor1\n",
      "    environment:\n",
      "     - COUNT= 1\n",
      "    networks:\n",
      "     - network1\n",
      "    restart: always\n",
      "    volumes:\n",
      "     - volume1\n",
      "\n",
      "\n",
      "  client_scada1:\n",
      "    build: docker-client-minimal_scada/v0.0.1/.\n",
      "    image: client-scada1\n",
      "    environment:\n",
      "     - COUNT= 1\n",
      "    networks:\n",
      "     - network1\n",
      "    restart: always\n",
      "\n",
      "\n",
      "volumes:\n",
      "  volume1:\n",
      "    driver: local\n",
      "    driver_opts:\n",
      "      type: none\n",
      "      o: bind\n",
      "      device: C:/Users/gesli/OneDrive/Documents/ing5/PFE/data \n",
      "\n",
      "networks:\n",
      "   network1:\n"
     ]
    }
   ],
   "source": [
    "#print(\"version: '3'\\n\\nservices: \")\n",
    "#Conso.Affichage()\n",
    "#Gene.Affichage()\n",
    "#Scada.Affichage()\n",
    "#Captor.Affichage()\n",
    "#net.Affichage()\n",
    "#print(\"\\n\\nvolumes:\")\n",
    "#vol.Affichage()\n",
    "AffichageGlobale(tabService,tabVolume,networks)"
   ]
  },
  {
   "cell_type": "code",
   "execution_count": 129,
   "metadata": {},
   "outputs": [],
   "source": [
    "import sys \n",
    "\n",
    "stdoutOrigin=sys.stdout \n",
    "sys.stdout = open(\"test.yml\", \"w\")"
   ]
  },
  {
   "cell_type": "code",
   "execution_count": 130,
   "metadata": {},
   "outputs": [],
   "source": [
    "AffichageGlobale(tabService,tabVolume,networks)"
   ]
  },
  {
   "cell_type": "code",
   "execution_count": 131,
   "metadata": {},
   "outputs": [],
   "source": [
    "sys.stdout.close()\n",
    "sys.stdout=stdoutOrigin"
   ]
  },
  {
   "cell_type": "code",
   "execution_count": 55,
   "metadata": {},
   "outputs": [
    {
     "name": "stdout",
     "output_type": "stream",
     "text": [
      "hello\n"
     ]
    }
   ],
   "source": [
    "print(\"hello\")"
   ]
  },
  {
   "cell_type": "code",
   "execution_count": 80,
   "metadata": {},
   "outputs": [
    {
     "name": "stdout",
     "output_type": "stream",
     "text": [
      "f\n",
      "Entrée incorrecte\n",
      "12\n"
     ]
    }
   ],
   "source": [
    "entrance=False\n",
    "while entrance==False:\n",
    "    try: #On vérifie que la valeur entrée est bien un nombre.\n",
    "            entrance=float(input());\n",
    "    except:#La valeur n'est pas un nombre\n",
    "        print(\"Entrée incorrecte\");\n",
    "        entrance=False;\n",
    "        continue;"
   ]
  },
  {
   "cell_type": "code",
   "execution_count": 84,
   "metadata": {},
   "outputs": [],
   "source": [
    "from tkinter import *\n",
    "\n",
    "window = Tk()"
   ]
  },
  {
   "cell_type": "code",
   "execution_count": 85,
   "metadata": {},
   "outputs": [],
   "source": [
    "window.mainloop()"
   ]
  },
  {
   "cell_type": "code",
   "execution_count": null,
   "metadata": {},
   "outputs": [],
   "source": []
  }
 ],
 "metadata": {
  "kernelspec": {
   "display_name": "Python 3",
   "language": "python",
   "name": "python3"
  },
  "language_info": {
   "codemirror_mode": {
    "name": "ipython",
    "version": 3
   },
   "file_extension": ".py",
   "mimetype": "text/x-python",
   "name": "python",
   "nbconvert_exporter": "python",
   "pygments_lexer": "ipython3",
   "version": "3.8.5"
  }
 },
 "nbformat": 4,
 "nbformat_minor": 4
}
